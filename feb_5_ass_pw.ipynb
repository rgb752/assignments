{
 "cells": [
  {
   "cell_type": "code",
   "execution_count": 1,
   "id": "888960d3",
   "metadata": {},
   "outputs": [],
   "source": [
    "# Assignement_5 feb 2023 "
   ]
  },
  {
   "cell_type": "raw",
   "id": "55606253",
   "metadata": {},
   "source": [
    "|Q1. Explain Class and Object with respect to Object-Oriented Programming. Give a suitable example."
   ]
  },
  {
   "cell_type": "raw",
   "id": "0c212b5d",
   "metadata": {},
   "source": [
    "class is just an blueprint that defines the structure of an objects . \n",
    "object is just real entity , an instance of class etc . Suppose while creating an class , we have set some parameter , and after that we create an object resembling that class, then we have to pass those parameters , that we have set during creation or making of class . \n",
    "In simple words , we say that class is set of all characteristics , that all objects must have. \n",
    "\n",
    "for example : \n",
    "let's create car class , we know each car have some model , mfd , max_speed .\n"
   ]
  },
  {
   "cell_type": "code",
   "execution_count": 2,
   "id": "2229b9a7",
   "metadata": {},
   "outputs": [],
   "source": [
    "class Car : \n",
    "    def __init__(self,model,mfd,color):\n",
    "        self.model = model\n",
    "        self.mfd = mfd\n",
    "        self.color = color \n",
    "        \n",
    "        \n",
    "    def start(self):\n",
    "        print(f\"The {self.mfd} {self.model} has started . \")\n",
    "    \n",
    "        "
   ]
  },
  {
   "cell_type": "code",
   "execution_count": 3,
   "id": "c87d5101",
   "metadata": {},
   "outputs": [
    {
     "ename": "TypeError",
     "evalue": "__init__() missing 3 required positional arguments: 'model', 'mfd', and 'color'",
     "output_type": "error",
     "traceback": [
      "\u001b[1;31m---------------------------------------------------------------------------\u001b[0m",
      "\u001b[1;31mTypeError\u001b[0m                                 Traceback (most recent call last)",
      "Input \u001b[1;32mIn [3]\u001b[0m, in \u001b[0;36m<cell line: 2>\u001b[1;34m()\u001b[0m\n\u001b[0;32m      1\u001b[0m \u001b[38;5;66;03m# creating objects: \u001b[39;00m\n\u001b[1;32m----> 2\u001b[0m car1 \u001b[38;5;241m=\u001b[39m \u001b[43mCar\u001b[49m\u001b[43m(\u001b[49m\u001b[43m)\u001b[49m\n",
      "\u001b[1;31mTypeError\u001b[0m: __init__() missing 3 required positional arguments: 'model', 'mfd', and 'color'"
     ]
    }
   ],
   "source": [
    "# creating objects: \n",
    "car1 = Car()"
   ]
  },
  {
   "cell_type": "code",
   "execution_count": 4,
   "id": "2031d730",
   "metadata": {},
   "outputs": [],
   "source": [
    "# see above is throwing error , because while creating that object , we have not pass the information/parameters .\n",
    "\n",
    "car1 = Car(\"90s_model\",1995,\"Yellow\")\n",
    "car2 = Car(\"natura_model\",2010,\"brown\")"
   ]
  },
  {
   "cell_type": "code",
   "execution_count": 5,
   "id": "4c20a78d",
   "metadata": {},
   "outputs": [
    {
     "data": {
      "text/plain": [
       "'Yellow'"
      ]
     },
     "execution_count": 5,
     "metadata": {},
     "output_type": "execute_result"
    }
   ],
   "source": [
    "car1.color"
   ]
  },
  {
   "cell_type": "raw",
   "id": "6b91bd21",
   "metadata": {},
   "source": [
    "Name the four pillars of OOPs."
   ]
  },
  {
   "cell_type": "raw",
   "id": "b54108c7",
   "metadata": {},
   "source": [
    "Encapsulation , Abstraction , Inheritance , polymorphism "
   ]
  },
  {
   "cell_type": "raw",
   "id": "bdecdfcd",
   "metadata": {},
   "source": [
    "#Explain why the __init__() function is used. Give a suitable example."
   ]
  },
  {
   "cell_type": "raw",
   "id": "2de9d090",
   "metadata": {},
   "source": [
    "In simple words , when we use init function , then whenever we create object , users have to pass the parameters (if parameters is structure  in class )\n",
    "so with the help of init function , it restricts the person to pass the parameters in the object , when we are creating object. \n",
    "for example : \n",
    "    ( In 5the row )  , in above code , we created the car1 object , resembling with class Car ,, so it throwed error because we have not passed the arguments ."
   ]
  },
  {
   "cell_type": "code",
   "execution_count": null,
   "id": "1117910d",
   "metadata": {},
   "outputs": [],
   "source": []
  },
  {
   "cell_type": "raw",
   "id": "af188302",
   "metadata": {},
   "source": [
    "Q. 4 : why self is used in OOPs? \n",
    "    "
   ]
  },
  {
   "cell_type": "raw",
   "id": "9a019048",
   "metadata": {},
   "source": [
    "In simple word , self is used to connect a function(created during class creation) to class .\n",
    "if we don't use self , then it would throw error. In addition , self is not special keyword .\n",
    "for example : "
   ]
  },
  {
   "cell_type": "code",
   "execution_count": null,
   "id": "6d6768d1",
   "metadata": {},
   "outputs": [],
   "source": []
  },
  {
   "cell_type": "code",
   "execution_count": 14,
   "id": "24b7f84e",
   "metadata": {},
   "outputs": [
    {
     "name": "stdout",
     "output_type": "stream",
     "text": [
      "20\n",
      "30\n"
     ]
    }
   ],
   "source": [
    "class Car:\n",
    "    def __init__(self, make, model):\n",
    "        self.make = make\n",
    "        self.model = model\n",
    "        self.speed = 0\n",
    "\n",
    "    def accelerate(self, amount):\n",
    "        self.speed += amount\n",
    "\n",
    "    def brake(self, amount):\n",
    "        self.speed -= amount\n",
    "\n",
    "car1 = Car(\"Toyota\", \"MOD\")\n",
    "car1.accelerate(20)\n",
    "print(car1.speed)  # Output: 20\n",
    "\n",
    "car2 = Car(\"Tesla\", \"Model S\")\n",
    "car2.accelerate(30)\n",
    "print(car2.speed)  # Output: 30"
   ]
  },
  {
   "cell_type": "code",
   "execution_count": 18,
   "id": "1e0e1cdc",
   "metadata": {},
   "outputs": [],
   "source": [
    "# what is inheritance ? give an example for each type of inheritance ? \n"
   ]
  },
  {
   "cell_type": "raw",
   "id": "e4e9273b",
   "metadata": {},
   "source": [
    "As we know inheritance is one of the pillars of OOPs where a class inherits properites and behaviours(methods ) from another class (superclass or base class )\n",
    ". The subclass has authority to access each and every function or methods of superclass (if not restricted )\n",
    "Inheritance helps to extend the functionality of the superclass , helps to reuse the code many times.\n"
   ]
  },
  {
   "cell_type": "raw",
   "id": "46a2e816",
   "metadata": {},
   "source": [
    "eg : single inheritance, multilevel inheritance ,multiple inheritance etc \n",
    "    "
   ]
  },
  {
   "cell_type": "code",
   "execution_count": 21,
   "id": "fe89307f",
   "metadata": {},
   "outputs": [],
   "source": [
    "class A : \n",
    "    def method_A(self):\n",
    "        print(\"A prints\")\n",
    "        \n",
    "class B(A):\n",
    "    def method_B(self):\n",
    "        print(\"B prints\")"
   ]
  },
  {
   "cell_type": "code",
   "execution_count": 22,
   "id": "8f72e4fd",
   "metadata": {},
   "outputs": [],
   "source": [
    "# creationg object of B : \n",
    "# now we can use the function of class A too .\n",
    "# example of single inheritance ."
   ]
  },
  {
   "cell_type": "code",
   "execution_count": 23,
   "id": "0e577464",
   "metadata": {},
   "outputs": [],
   "source": [
    "obj_ = B()"
   ]
  },
  {
   "cell_type": "code",
   "execution_count": 26,
   "id": "8168813f",
   "metadata": {},
   "outputs": [
    {
     "name": "stdout",
     "output_type": "stream",
     "text": [
      "A prints\n"
     ]
    }
   ],
   "source": [
    "obj_.method_A()"
   ]
  },
  {
   "cell_type": "code",
   "execution_count": 27,
   "id": "6083a50c",
   "metadata": {},
   "outputs": [],
   "source": [
    "# multilevel inheritance : \n"
   ]
  },
  {
   "cell_type": "code",
   "execution_count": 28,
   "id": "803359fe",
   "metadata": {},
   "outputs": [],
   "source": [
    "class X : \n",
    "    def X_print(self):\n",
    "        print(\"X prints\")\n",
    "        \n",
    "class Y : \n",
    "    def Y_print(self):\n",
    "        print(\"Y prints\")\n",
    "        \n",
    "class Z(X,Y):\n",
    "    def Z_prints(self):\n",
    "        print(\"Z prints \")\n",
    "        \n",
    "# example of multiple inheritance .        \n",
    "    "
   ]
  },
  {
   "cell_type": "code",
   "execution_count": 30,
   "id": "009bf797",
   "metadata": {},
   "outputs": [],
   "source": [
    "class A : \n",
    "    def method_A(self):\n",
    "        print(\"A prints\")\n",
    "        \n",
    "class B(A):\n",
    "    def method_B(self):\n",
    "        print(\"B prints\")\n",
    "        \n",
    "        \n",
    "class C(B):\n",
    "    def method_C(self):\n",
    "        print(\"C prints\")\n",
    "        \n",
    "class D(C):\n",
    "    def method_D(self):\n",
    "        print(\"D prints\")\n",
    "        \n",
    "        "
   ]
  },
  {
   "cell_type": "code",
   "execution_count": 31,
   "id": "6016cfd9",
   "metadata": {},
   "outputs": [],
   "source": [
    "# example of multilevel inheritance . \n"
   ]
  },
  {
   "cell_type": "code",
   "execution_count": null,
   "id": "d08243f2",
   "metadata": {},
   "outputs": [],
   "source": []
  }
 ],
 "metadata": {
  "kernelspec": {
   "display_name": "Python 3 (ipykernel)",
   "language": "python",
   "name": "python3"
  },
  "language_info": {
   "codemirror_mode": {
    "name": "ipython",
    "version": 3
   },
   "file_extension": ".py",
   "mimetype": "text/x-python",
   "name": "python",
   "nbconvert_exporter": "python",
   "pygments_lexer": "ipython3",
   "version": "3.9.12"
  }
 },
 "nbformat": 4,
 "nbformat_minor": 5
}
